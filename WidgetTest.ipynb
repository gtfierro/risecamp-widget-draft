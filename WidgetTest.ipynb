{
 "cells": [
  {
   "cell_type": "code",
   "execution_count": 1,
   "metadata": {},
   "outputs": [
    {
     "data": {
      "application/vnd.jupyter.widget-view+json": {
       "model_id": "689c89f7ae0d40c58d665459088f5e05",
       "version_major": 2,
       "version_minor": 0
      },
      "text/plain": [
       "TGlnaHQoY2hpbGRyZW49KEltYWdlKHZhbHVlPSdceDg5UE5HXHJcblx4MWFcblx4MDBceDAwXHgwMFxySUhEUlx4MDBceDAwXHgwMEtceDAwXHgwMFx4MDB4XHgwOFx4MDZceDAwXHgwMFx4MDDigKY=\n"
      ]
     },
     "metadata": {},
     "output_type": "display_data"
    }
   ],
   "source": [
    "from widgets import *\n",
    "# instantiate a light with a label; instantiating a switch with the same label (in this notebook), \n",
    "# will keep their states in sync.\n",
    "l = Light('light-2')\n",
    "l"
   ]
  },
  {
   "cell_type": "code",
   "execution_count": 2,
   "metadata": {},
   "outputs": [],
   "source": [
    "# programatically turn light on\n",
    "l.turnon()\n",
    "\n",
    "time.sleep(.5)\n",
    "\n",
    "# programatically turn light off\n",
    "l.turnoff()\n",
    "\n",
    "time.sleep(.5)\n",
    "\n",
    "# set the value directly\n",
    "l.state = True # back on"
   ]
  },
  {
   "cell_type": "code",
   "execution_count": 3,
   "metadata": {},
   "outputs": [
    {
     "data": {
      "application/vnd.jupyter.widget-view+json": {
       "model_id": "3df8c2b4ff6947bf82054bea02591a92",
       "version_major": 2,
       "version_minor": 0
      },
      "text/plain": [
       "Switch(value=True, button_style=u'danger', description=u'Turn Light Off')"
      ]
     },
     "metadata": {},
     "output_type": "display_data"
    }
   ],
   "source": [
    "# instantiate the switch with a light's label\n",
    "s = Switch('light-2')\n",
    "s"
   ]
  },
  {
   "cell_type": "code",
   "execution_count": 4,
   "metadata": {},
   "outputs": [],
   "source": [
    "# toggle the switch value\n",
    "s.toggle()\n",
    "\n",
    "time.sleep(.5)\n",
    "\n",
    "# or set the value directly\n",
    "s.value = True"
   ]
  },
  {
   "cell_type": "code",
   "execution_count": 5,
   "metadata": {},
   "outputs": [
    {
     "data": {
      "application/vnd.jupyter.widget-view+json": {
       "model_id": "2e210ffabaf64bde80c5587c79a4e17c",
       "version_major": 2,
       "version_minor": 0
      },
      "text/plain": [
       "VGhlcm1vc3RhdChjaGlsZHJlbj0oSW1hZ2UodmFsdWU9J1x4ODlQTkdcclxuXHgxYVxuXHgwMFx4MDBceDAwXHJJSERSXHgwMFx4MDBceDA1XHhkY1x4MDBceDAwXHgwNFx4MDRceDA4XHgwMlzigKY=\n"
      ]
     },
     "metadata": {},
     "output_type": "display_data"
    }
   ],
   "source": [
    "# thermostats start with some initial values\n",
    "t = Thermostat()\n",
    "t"
   ]
  },
  {
   "cell_type": "code",
   "execution_count": 6,
   "metadata": {},
   "outputs": [
    {
     "name": "stdout",
     "output_type": "stream",
     "text": [
      "('Temperature:', 72.0)\n",
      "('Heating, cooling setpoint:', 70.0, 75.0)\n",
      "('State', 'Off')\n",
      "('Should now be cooling', 'Cooling')\n"
     ]
    }
   ],
   "source": [
    "# read out all thermostat internal values\n",
    "print('Temperature:', t.temp)\n",
    "print('Heating, cooling setpoint:', t.hsp, t.csp)\n",
    "print('State', t.state)\n",
    "\n",
    "# thermostat state will react to setpoints and internal temperature and change state accordingly\n",
    "# RIGHT NOW there is no thermal simulation\n",
    "\n",
    "# set these directly and the widget will update\n",
    "t.hsp, t.csp = (68, 73)\n",
    "t.temp = 72.5 # update temp directly\n",
    "t.update_temperature(72.0) # or through method\n",
    "t.update_setpoints(68, 70) # alternative set sp method\n",
    "print('Should now be cooling', t.state)"
   ]
  },
  {
   "cell_type": "code",
   "execution_count": 7,
   "metadata": {},
   "outputs": [
    {
     "data": {
      "application/vnd.jupyter.widget-view+json": {
       "model_id": "2e11e53189f342fbb7d1289f7608d812",
       "version_major": 2,
       "version_minor": 0
      },
      "text/plain": [
       "TW90aW9uU2Vuc29yKGNoaWxkcmVuPShJbWFnZSh2YWx1ZT0nXHg4OVBOR1xyXG5ceDFhXG5ceDAwXHgwMFx4MDBccklIRFJceDAwXHgwMFx4MDBceDhiXHgwMFx4MDBceDAwXHg4Y1x4MDhceDDigKY=\n"
      ]
     },
     "metadata": {},
     "output_type": "display_data"
    }
   ],
   "source": [
    "m = MotionSensor()\n",
    "m"
   ]
  },
  {
   "cell_type": "code",
   "execution_count": 8,
   "metadata": {},
   "outputs": [],
   "source": [
    "# click the button to trigger occupancy, or call\n",
    "m.trigger()\n",
    "\n",
    "# button will turn green for 800ms"
   ]
  },
  {
   "cell_type": "code",
   "execution_count": null,
   "metadata": {},
   "outputs": [],
   "source": []
  },
  {
   "cell_type": "code",
   "execution_count": null,
   "metadata": {},
   "outputs": [],
   "source": []
  },
  {
   "cell_type": "code",
   "execution_count": null,
   "metadata": {},
   "outputs": [],
   "source": []
  },
  {
   "cell_type": "code",
   "execution_count": null,
   "metadata": {},
   "outputs": [],
   "source": []
  },
  {
   "cell_type": "code",
   "execution_count": null,
   "metadata": {},
   "outputs": [],
   "source": []
  },
  {
   "cell_type": "code",
   "execution_count": null,
   "metadata": {},
   "outputs": [],
   "source": []
  }
 ],
 "metadata": {
  "kernelspec": {
   "display_name": "Python 3",
   "language": "python",
   "name": "python3"
  },
  "language_info": {
   "codemirror_mode": {
    "name": "ipython",
    "version": 2
   },
   "file_extension": ".py",
   "mimetype": "text/x-python",
   "name": "python",
   "nbconvert_exporter": "python",
   "pygments_lexer": "ipython2",
   "version": "2.7.15rc1"
  }
 },
 "nbformat": 4,
 "nbformat_minor": 2
}
